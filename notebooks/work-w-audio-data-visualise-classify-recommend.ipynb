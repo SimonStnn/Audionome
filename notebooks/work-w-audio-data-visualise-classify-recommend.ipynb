{
 "cells": [
  {
   "cell_type": "markdown",
   "metadata": {},
   "source": [
    "![](https://i.imgur.com/LZB5LEa.png)\n",
    "\n",
    "# Introduction\n",
    "\n",
    "### Why are we doing this?\n",
    "Music. Experts have been trying for a long time to understand sound and what differenciates one song from another. How to visualize sound. What makes a tone different from another.\n",
    "\n",
    "In this notebook we will go through an in depth analysis of sound and how we can **visualize, classify and ultimately understand** it.\n",
    "\n",
    "### The data:\n",
    "* **genres original** - A collection of 10 genres with 100 audio files each, all having a length of 30 seconds (the famous GTZAN dataset, the MNIST of sounds)\n",
    "* **images original** - A visual representation for each audio file. One way to classify data is through neural networks. Because NNs (like CNN, what we will be using today) usually take in some sort of image representation, the audio files were converted to Mel Spectrograms to make this possible (we'll be talking about this more in depth later)\n",
    "* **2 CSV files** - Containing features of the audio files. One file has for each song (30 seconds long) a mean and variance computed over multiple features that can be extracted from an audio file (more in depth later). The other file has the same structure, but the songs were split before into 3 seconds audio files (this way increasing 10 times the amount of data we fuel into our classification models). *With data, more is always better*.\n",
    "\n",
    "### Purpose:\n",
    "1. We want to understand **what is an Audio file**. What features we can visualize on this kind of data.\n",
    "2. **EDA**. ALways good, here very necessary.\n",
    "3. **Genres Classification** on the 3 seconds CSV file (trying multiple models and identify which has the best accuracy)\n",
    "4. A **recommender system**: given a song, give me top X songs most similar.\n",
    "\n",
    "### Credits and Acknowledgements:\n",
    "* This was a team project for uni, so the effort in creating this wasn't only my own. So, I want to thank **James Wiltshire, Lauren O'Hare and Minyu Lei** for being the best teammates ever and for having so much fun and learning so much during the 3 days we worked on this.\n",
    "* You can do a lot of documentation online, but an article that helped us a lot in doing this was [Parul Pandey's](https://www.kaggle.com/parulpandey) notebook for [Music Genre Classification with Python](https://towardsdatascience.com/music-genre-classification-with-python-c714d032f0d8)"
   ]
  },
  {
   "cell_type": "code",
   "execution_count": null,
   "metadata": {
    "_cell_guid": "b1076dfc-b9ad-4769-8c92-a6c4dae69d19",
    "_uuid": "8f2839f25d086af736a60e9eeb907d3b93b6e0e5"
   },
   "outputs": [],
   "source": [
    "# Usual Libraries\n",
    "import pandas as pd\n",
    "import numpy as np\n",
    "import seaborn as sns\n",
    "import matplotlib.pyplot as plt\n",
    "from sklearn import preprocessing\n",
    "\n",
    "# Librosa (the mother of audio files)\n",
    "import librosa\n",
    "import librosa.display\n",
    "import IPython.display as ipd\n",
    "import warnings\n",
    "warnings.filterwarnings('ignore')"
   ]
  },
  {
   "cell_type": "code",
   "execution_count": null,
   "metadata": {},
   "outputs": [],
   "source": [
    "import os\n",
    "general_path = './data/'\n",
    "print(list(os.listdir(f'{general_path}/genres_original/')))"
   ]
  },
  {
   "cell_type": "markdown",
   "metadata": {},
   "source": [
    "# Explore Audio Data\n",
    "\n",
    "We will use `librosa`, which is the mother of audio files.\n",
    "\n",
    "## Understanding Audio\n",
    "Let's first Explore our Audio Data to see how it looks (we'll work with `reggae.00036.wav` file).\n",
    "\n",
    "* **Sound**: sequence of vibrations in varying pressure strengths (`y`)\n",
    "* The **sample rate** (`sr`) is the number of samples of audio carried per second, measured in Hz or kHz"
   ]
  },
  {
   "cell_type": "code",
   "execution_count": null,
   "metadata": {
    "_cell_guid": "79c7e3d0-c299-4dcb-8224-4455121ee9b0",
    "_uuid": "d629ff2d2480ee46fbb7e2d37f6b5fab8052498a"
   },
   "outputs": [],
   "source": [
    "# Importing 1 file\n",
    "y, sr = librosa.load(f'{general_path}/genres_original/reggae/reggae.00036.wav')\n",
    "\n",
    "print('y:', y, '\\n')\n",
    "print('y shape:', np.shape(y), '\\n')\n",
    "print('Sample Rate (KHz):', sr, '\\n')\n",
    "\n",
    "# Verify length of the audio\n",
    "print('Check Len of Audio:', 661794/22050)"
   ]
  },
  {
   "cell_type": "code",
   "execution_count": null,
   "metadata": {},
   "outputs": [],
   "source": [
    "# Trim leading and trailing silence from an audio signal (silence before and after the actual audio)\n",
    "audio_file, _ = librosa.effects.trim(y)\n",
    "\n",
    "# the result is an numpy ndarray\n",
    "print('Audio File:', audio_file, '\\n')\n",
    "print('Audio File shape:', np.shape(audio_file))"
   ]
  },
  {
   "cell_type": "markdown",
   "metadata": {},
   "source": [
    "### 2D Representation: Sound Waves"
   ]
  },
  {
   "cell_type": "code",
   "execution_count": null,
   "metadata": {},
   "outputs": [],
   "source": [
    "plt.figure(figsize = (16, 6))\n",
    "librosa.display.waveshow(y = audio_file, sr = sr, color = \"#A300F9\");\n",
    "plt.title(\"Sound Waves in Reggae 36\", fontsize = 23);"
   ]
  },
  {
   "cell_type": "markdown",
   "metadata": {},
   "source": [
    "### Fourier Transform\n",
    "\n",
    "* Function that gets a signal in the time domain as input, and outputs its decomposition into frequencies\n",
    "* Transform both the y-axis (frequency) to log scale, and the “color” axis (amplitude) to Decibels, which is approx. the log scale of amplitudes."
   ]
  },
  {
   "cell_type": "code",
   "execution_count": null,
   "metadata": {},
   "outputs": [],
   "source": [
    "# Default FFT window size\n",
    "n_fft = 2048 # FFT window size\n",
    "hop_length = 512 # number audio of frames between STFT columns (looks like a good default)\n",
    "\n",
    "# Short-time Fourier transform (STFT)\n",
    "D = np.abs(librosa.stft(audio_file, n_fft = n_fft, hop_length = hop_length))\n",
    "\n",
    "print('Shape of D object:', np.shape(D))"
   ]
  },
  {
   "cell_type": "code",
   "execution_count": null,
   "metadata": {},
   "outputs": [],
   "source": [
    "plt.figure(figsize = (16, 6))\n",
    "plt.plot(D);"
   ]
  },
  {
   "cell_type": "markdown",
   "metadata": {},
   "source": [
    "### The Spectrogram\n",
    "\n",
    "* What is a spectrogram? A spectrogram is a visual representation of the spectrum of frequencies of a signal as it varies with time. When applied to an audio signal, spectrograms are sometimes called sonographs, voiceprints, or voicegrams ([wiki](https://en.wikipedia.org/wiki/Spectrogram)).\n",
    "* Here we convert the frequency axis to a logarithmic one."
   ]
  },
  {
   "cell_type": "code",
   "execution_count": null,
   "metadata": {},
   "outputs": [],
   "source": [
    "# Convert an amplitude spectrogram to Decibels-scaled spectrogram.\n",
    "DB = librosa.amplitude_to_db(D, ref = np.max)\n",
    "\n",
    "# Creating the Spectogram\n",
    "plt.figure(figsize = (16, 6))\n",
    "librosa.display.specshow(DB, sr = sr, hop_length = hop_length, x_axis = 'time', y_axis = 'log',\n",
    "                        cmap = 'cool')\n",
    "plt.colorbar();"
   ]
  },
  {
   "cell_type": "markdown",
   "metadata": {},
   "source": [
    "### Mel Spectrogram\n",
    "\n",
    "* The Mel Scale, mathematically speaking, is the result of some non-linear transformation of the frequency scale. The Mel Spectrogram is a normal Spectrogram, but with a Mel Scale on the y axis."
   ]
  },
  {
   "cell_type": "code",
   "execution_count": null,
   "metadata": {},
   "outputs": [],
   "source": [
    "y, sr = librosa.load(f'{general_path}/genres_original/metal/metal.00036.wav')\n",
    "y, _ = librosa.effects.trim(y)\n",
    "\n",
    "\n",
    "S = librosa.feature.melspectrogram(y=y, sr=sr)\n",
    "S_DB = librosa.amplitude_to_db(S, ref=np.max)\n",
    "plt.figure(figsize = (16, 6))\n",
    "librosa.display.specshow(S_DB, sr=sr, hop_length=hop_length, x_axis = 'time', y_axis = 'log',\n",
    "                        cmap = 'cool');\n",
    "plt.colorbar();\n",
    "plt.title(\"Metal Mel Spectrogram\", fontsize = 23);"
   ]
  },
  {
   "cell_type": "code",
   "execution_count": null,
   "metadata": {},
   "outputs": [],
   "source": [
    "y, sr = librosa.load(f'{general_path}/genres_original/classical/classical.00036.wav')\n",
    "y, _ = librosa.effects.trim(y)\n",
    "\n",
    "\n",
    "S = librosa.feature.melspectrogram(y=y, sr=sr)\n",
    "S_DB = librosa.amplitude_to_db(S, ref=np.max)\n",
    "plt.figure(figsize = (16, 6))\n",
    "librosa.display.specshow(S_DB, sr=sr, hop_length=hop_length, x_axis = 'time', y_axis = 'log',\n",
    "                        cmap = 'cool');\n",
    "plt.colorbar();\n",
    "plt.title(\"Classical Mel Spectrogram\", fontsize = 23);"
   ]
  },
  {
   "cell_type": "markdown",
   "metadata": {},
   "source": [
    "## Audio Features\n",
    "\n",
    "### Zero Crossing Rate\n",
    "\n",
    "* the rate at which the signal changes from positive to negative or back."
   ]
  },
  {
   "cell_type": "code",
   "execution_count": null,
   "metadata": {},
   "outputs": [],
   "source": [
    "# Total zero_crossings in our 1 song\n",
    "zero_crossings = librosa.zero_crossings(audio_file, pad=False)\n",
    "print(sum(zero_crossings))"
   ]
  },
  {
   "cell_type": "markdown",
   "metadata": {},
   "source": [
    "### Harmonics and Perceptrual\n",
    "\n",
    "* Harmonics are characteristichs that human years can't distinguish (represents the sound color)\n",
    "* Perceptrual understanding shock wave represents the sound rhythm and emotion"
   ]
  },
  {
   "cell_type": "code",
   "execution_count": null,
   "metadata": {},
   "outputs": [],
   "source": [
    "y_harm, y_perc = librosa.effects.hpss(audio_file)\n",
    "\n",
    "plt.figure(figsize = (16, 6))\n",
    "plt.plot(y_harm, color = '#A300F9');\n",
    "plt.plot(y_perc, color = '#FFB100');"
   ]
  },
  {
   "cell_type": "markdown",
   "metadata": {},
   "source": [
    "### Tempo BMP (beats per minute)\n",
    "\n",
    "Dynamic programming beat tracker."
   ]
  },
  {
   "cell_type": "code",
   "execution_count": null,
   "metadata": {},
   "outputs": [],
   "source": [
    "tempo, _ = librosa.beat.beat_track(y=y, sr = sr)\n",
    "tempo"
   ]
  },
  {
   "cell_type": "markdown",
   "metadata": {},
   "source": [
    "### Spectral Centroid\n",
    "\n",
    "* indicates where the ”centre of mass” for a sound is located and is calculated as the weighted mean of the frequencies present in the sound."
   ]
  },
  {
   "cell_type": "code",
   "execution_count": null,
   "metadata": {},
   "outputs": [],
   "source": [
    "# Calculate the Spectral Centroids\n",
    "spectral_centroids = librosa.feature.spectral_centroid(y=audio_file, sr=sr)[0]\n",
    "\n",
    "# Shape is a vector\n",
    "print('Centroids:', spectral_centroids, '\\n')\n",
    "print('Shape of Spectral Centroids:', spectral_centroids.shape, '\\n')\n",
    "\n",
    "# Computing the time variable for visualization\n",
    "frames = range(len(spectral_centroids))\n",
    "\n",
    "# Converts frame counts to time (seconds)\n",
    "t = librosa.frames_to_time(frames)\n",
    "\n",
    "print('frames:', frames, '\\n')\n",
    "print('t:', t)\n",
    "\n",
    "# Function that normalizes the Sound Data\n",
    "def normalize(x, axis=0):\n",
    "    return preprocessing.minmax_scale(x, axis=axis)"
   ]
  },
  {
   "cell_type": "code",
   "execution_count": null,
   "metadata": {},
   "outputs": [],
   "source": [
    "#Plotting the Spectral Centroid along the waveform\n",
    "plt.figure(figsize = (16, 6))\n",
    "librosa.display.waveshow(audio_file, sr=sr, alpha=0.4, color = '#A300F9');\n",
    "plt.plot(t, preprocessing.minmax_scale(spectral_centroids), color='#FFB100');"
   ]
  },
  {
   "cell_type": "markdown",
   "metadata": {},
   "source": [
    "### Spectral Rolloff\n",
    "* is a measure of the shape of the signal. It represents the frequency below which a specified percentage of the total spectral energy, e.g. 85%, lies"
   ]
  },
  {
   "cell_type": "code",
   "execution_count": null,
   "metadata": {},
   "outputs": [],
   "source": [
    "# Spectral RollOff Vector\n",
    "spectral_rolloff = librosa.feature.spectral_rolloff(y=audio_file, sr=sr)[0]\n",
    "\n",
    "# The plot\n",
    "plt.figure(figsize = (16, 6))\n",
    "librosa.display.waveshow(audio_file, sr=sr, alpha=0.4, color = '#A300F9');\n",
    "plt.plot(t, normalize(spectral_rolloff), color='#FFB100');"
   ]
  },
  {
   "cell_type": "markdown",
   "metadata": {},
   "source": [
    "### Mel-Frequency Cepstral Coefficients:\n",
    "\n",
    "* The Mel frequency cepstral coefficients (MFCCs) of a signal are a small set of features (usually about 10–20) which concisely describe the overall shape of a spectral envelope. It models the characteristics of the human voice."
   ]
  },
  {
   "cell_type": "code",
   "execution_count": null,
   "metadata": {},
   "outputs": [],
   "source": [
    "mfccs = librosa.feature.mfcc(y=audio_file, sr=sr)\n",
    "print('mfccs shape:', mfccs.shape)\n",
    "\n",
    "#Displaying  the MFCCs:\n",
    "plt.figure(figsize = (16, 6))\n",
    "librosa.display.specshow(mfccs, sr=sr, x_axis='time', cmap = 'cool');"
   ]
  },
  {
   "cell_type": "markdown",
   "metadata": {},
   "source": [
    "Data needs to be scaled:"
   ]
  },
  {
   "cell_type": "code",
   "execution_count": null,
   "metadata": {},
   "outputs": [],
   "source": [
    "# Perform Feature Scaling\n",
    "mfccs = preprocessing.scale(mfccs, axis=1)\n",
    "print('Mean:', mfccs.mean(), '\\n')\n",
    "print('Var:', mfccs.var())\n",
    "\n",
    "plt.figure(figsize = (16, 6))\n",
    "librosa.display.specshow(mfccs, sr=sr, x_axis='time', cmap = 'cool');"
   ]
  },
  {
   "cell_type": "markdown",
   "metadata": {},
   "source": [
    "### Chroma Frequencies\n",
    "\n",
    "* Chroma features are an interesting and powerful representation for music audio in which the entire spectrum is projected onto 12 bins representing the 12 distinct semitones (or chroma) of the musical octave."
   ]
  },
  {
   "cell_type": "code",
   "execution_count": null,
   "metadata": {},
   "outputs": [],
   "source": [
    "# Increase or decrease hop_length to change how granular you want your data to be\n",
    "hop_length = 5000\n",
    "\n",
    "# Chromogram\n",
    "chromagram = librosa.feature.chroma_stft(y=audio_file, sr=sr, hop_length=hop_length)\n",
    "print('Chromogram shape:', chromagram.shape)\n",
    "\n",
    "plt.figure(figsize=(16, 6))\n",
    "librosa.display.specshow(chromagram, x_axis='time', y_axis='chroma', hop_length=hop_length, cmap='coolwarm');"
   ]
  },
  {
   "cell_type": "markdown",
   "metadata": {},
   "source": [
    "## EDA\n",
    "\n",
    "EDA is going to be performed on the `features_30_sec.csv`. This file contains the mean and variance for each audio file fo the features analysed above. \n",
    "\n",
    "So, the table has a final of 1000 rows (10 genrex x 100 audio files) and 60 features (dimensionalities)."
   ]
  },
  {
   "cell_type": "code",
   "execution_count": null,
   "metadata": {},
   "outputs": [],
   "source": [
    "data = pd.read_csv(f'{general_path}/features_30_sec.csv')\n",
    "data.head()"
   ]
  },
  {
   "cell_type": "markdown",
   "metadata": {},
   "source": [
    "### Correlation Heatmap for feature means"
   ]
  },
  {
   "cell_type": "code",
   "execution_count": null,
   "metadata": {},
   "outputs": [],
   "source": [
    "# Computing the Correlation Matrix\n",
    "spike_cols = [col for col in data.columns if 'mean' in col]\n",
    "corr = data[spike_cols].corr()\n",
    "\n",
    "# Generate a mask for the upper triangle\n",
    "mask = np.triu(np.ones_like(corr, dtype=np.bool))\n",
    "\n",
    "# Set up the matplotlib figure\n",
    "f, ax = plt.subplots(figsize=(16, 11));\n",
    "\n",
    "# Generate a custom diverging colormap\n",
    "cmap = sns.diverging_palette(0, 25, as_cmap=True, s = 90, l = 45, n = 5)\n",
    "\n",
    "# Draw the heatmap with the mask and correct aspect ratio\n",
    "sns.heatmap(corr, mask=mask, cmap=cmap, vmax=.3, center=0,\n",
    "            square=True, linewidths=.5, cbar_kws={\"shrink\": .5})\n",
    "\n",
    "plt.title('Correlation Heatmap (for the MEAN variables)', fontsize = 25)\n",
    "plt.xticks(fontsize = 10)\n",
    "plt.yticks(fontsize = 10);\n",
    "plt.savefig(\"Corr Heatmap.jpg\")"
   ]
  },
  {
   "cell_type": "markdown",
   "metadata": {},
   "source": [
    "### Box Plot for Genres Distributions"
   ]
  },
  {
   "cell_type": "code",
   "execution_count": null,
   "metadata": {},
   "outputs": [],
   "source": [
    "x = data[[\"label\", \"tempo\"]]\n",
    "\n",
    "f, ax = plt.subplots(figsize=(16, 9));\n",
    "sns.boxplot(x = \"label\", y = \"tempo\", data = x, palette = 'husl');\n",
    "\n",
    "plt.title('BPM Boxplot for Genres', fontsize = 25)\n",
    "plt.xticks(fontsize = 14)\n",
    "plt.yticks(fontsize = 10);\n",
    "plt.xlabel(\"Genre\", fontsize = 15)\n",
    "plt.ylabel(\"BPM\", fontsize = 15)\n",
    "plt.savefig(\"BPM Boxplot.jpg\")"
   ]
  },
  {
   "cell_type": "markdown",
   "metadata": {},
   "source": [
    "### Principal Component Analysis - to visualize possible groups of genres\n",
    "\n",
    "1. Normalization\n",
    "2. PCA\n",
    "3. The Scatter Plot"
   ]
  },
  {
   "cell_type": "code",
   "execution_count": null,
   "metadata": {},
   "outputs": [],
   "source": [
    "from sklearn import preprocessing\n",
    "\n",
    "data = data.iloc[0:, 1:]\n",
    "y = data['label']\n",
    "X = data.loc[:, data.columns != 'label']\n",
    "\n",
    "#### NORMALIZE X ####\n",
    "cols = X.columns\n",
    "min_max_scaler = preprocessing.MinMaxScaler()\n",
    "np_scaled = min_max_scaler.fit_transform(X)\n",
    "X = pd.DataFrame(np_scaled, columns = cols)\n",
    "\n",
    "\n",
    "#### PCA 2 COMPONENTS ####\n",
    "from sklearn.decomposition import PCA\n",
    "\n",
    "pca = PCA(n_components=2)\n",
    "principalComponents = pca.fit_transform(X)\n",
    "principalDf = pd.DataFrame(data = principalComponents, columns = ['principal component 1', 'principal component 2'])\n",
    "\n",
    "# concatenate with target label\n",
    "finalDf = pd.concat([principalDf, y], axis = 1)\n",
    "\n",
    "pca.explained_variance_ratio_\n",
    "\n",
    "# 44.93 variance explained"
   ]
  },
  {
   "cell_type": "code",
   "execution_count": null,
   "metadata": {},
   "outputs": [],
   "source": [
    "plt.figure(figsize = (16, 9))\n",
    "sns.scatterplot(x = \"principal component 1\", y = \"principal component 2\", data = finalDf, hue = \"label\", alpha = 0.7,\n",
    "               s = 100);\n",
    "\n",
    "plt.title('PCA on Genres', fontsize = 25)\n",
    "plt.xticks(fontsize = 14)\n",
    "plt.yticks(fontsize = 10);\n",
    "plt.xlabel(\"Principal Component 1\", fontsize = 15)\n",
    "plt.ylabel(\"Principal Component 2\", fontsize = 15)\n",
    "plt.savefig(\"PCA Scattert.jpg\")"
   ]
  },
  {
   "cell_type": "markdown",
   "metadata": {},
   "source": [
    "# Machine Learning Classification\n",
    "\n",
    "Using the `features_3_sec.csv` file, we can try to build a classifier that accurately predicts for any new audio file input it's genre.\n",
    "\n",
    "### Libraries"
   ]
  },
  {
   "cell_type": "code",
   "execution_count": null,
   "metadata": {},
   "outputs": [],
   "source": [
    "from sklearn.naive_bayes import GaussianNB\n",
    "from sklearn.linear_model import SGDClassifier, LogisticRegression\n",
    "from sklearn.neighbors import KNeighborsClassifier\n",
    "from sklearn.tree import DecisionTreeClassifier\n",
    "from sklearn.ensemble import RandomForestClassifier\n",
    "from sklearn.svm import SVC\n",
    "from sklearn.neural_network import MLPClassifier\n",
    "from xgboost import XGBClassifier, XGBRFClassifier\n",
    "from xgboost import plot_tree, plot_importance\n",
    "\n",
    "from sklearn.metrics import confusion_matrix, accuracy_score, roc_auc_score, roc_curve\n",
    "from sklearn import preprocessing\n",
    "from sklearn.model_selection import train_test_split\n",
    "from sklearn.feature_selection import RFE"
   ]
  },
  {
   "cell_type": "markdown",
   "metadata": {},
   "source": [
    "### Reading in the Data\n",
    "\n",
    "Now let's try to predict the Genre of the audio using Machine Learning techniques."
   ]
  },
  {
   "cell_type": "code",
   "execution_count": null,
   "metadata": {},
   "outputs": [],
   "source": [
    "data = pd.read_csv(f'{general_path}/features_3_sec.csv')\n",
    "data = data.iloc[0:, 1:] \n",
    "data.head()"
   ]
  },
  {
   "cell_type": "markdown",
   "metadata": {},
   "source": [
    "### Features and Target variable\n",
    "\n",
    "* creates the target and feature variables\n",
    "* normalizes the data"
   ]
  },
  {
   "cell_type": "code",
   "execution_count": null,
   "metadata": {},
   "outputs": [],
   "source": [
    "y = data['label'] # genre variable.\n",
    "X = data.loc[:, data.columns != 'label'] #select all columns but not the labels\n",
    "\n",
    "#### NORMALIZE X ####\n",
    "\n",
    "# Normalize so everything is on the same scale. \n",
    "\n",
    "cols = X.columns\n",
    "min_max_scaler = preprocessing.MinMaxScaler()\n",
    "np_scaled = min_max_scaler.fit_transform(X)\n",
    "\n",
    "# new data frame with the new scaled data. \n",
    "X = pd.DataFrame(np_scaled, columns = cols)"
   ]
  },
  {
   "cell_type": "markdown",
   "metadata": {},
   "source": [
    "### Splitting the data into training and testing\n",
    "\n",
    "* 70% - 30% split"
   ]
  },
  {
   "cell_type": "code",
   "execution_count": null,
   "metadata": {},
   "outputs": [],
   "source": [
    "X_train, X_test, y_train, y_test = train_test_split(X, y, test_size=0.3, random_state=42)"
   ]
  },
  {
   "cell_type": "markdown",
   "metadata": {},
   "source": [
    "### Creating a Predefined function to assess the accuracy of a model\n",
    "\n",
    "* input is the model\n",
    "* fits the model on the training dataset\n",
    "* predicts on the testing features\n",
    "* compares the predictions with the actuals"
   ]
  },
  {
   "cell_type": "code",
   "execution_count": null,
   "metadata": {},
   "outputs": [],
   "source": [
    "def model_assess(model, title = \"Default\"):\n",
    "    model.fit(X_train, y_train)\n",
    "    preds = model.predict(X_test)\n",
    "    #print(confusion_matrix(y_test, preds))\n",
    "    print('Accuracy', title, ':', round(accuracy_score(y_test, preds), 5), '\\n')"
   ]
  },
  {
   "cell_type": "markdown",
   "metadata": {},
   "source": [
    "### Trying 10 different models to assess their performance\n",
    "\n",
    "We tried 10 classification models, the best performing model was XGBooster."
   ]
  },
  {
   "cell_type": "code",
   "execution_count": null,
   "metadata": {},
   "outputs": [],
   "source": [
    "# Naive Bayes\n",
    "nb = GaussianNB()\n",
    "model_assess(nb, \"Naive Bayes\")\n",
    "\n",
    "# Stochastic Gradient Descent\n",
    "sgd = SGDClassifier(max_iter=5000, random_state=0)\n",
    "model_assess(sgd, \"Stochastic Gradient Descent\")\n",
    "\n",
    "# KNN\n",
    "knn = KNeighborsClassifier(n_neighbors=19)\n",
    "model_assess(knn, \"KNN\")\n",
    "\n",
    "# Decission trees\n",
    "tree = DecisionTreeClassifier()\n",
    "model_assess(tree, \"Decission trees\")\n",
    "\n",
    "# Random Forest\n",
    "rforest = RandomForestClassifier(n_estimators=1000, max_depth=10, random_state=0)\n",
    "model_assess(rforest, \"Random Forest\")\n",
    "\n",
    "# Support Vector Machine\n",
    "svm = SVC(decision_function_shape=\"ovo\")\n",
    "model_assess(svm, \"Support Vector Machine\")\n",
    "\n",
    "# Logistic Regression\n",
    "lg = LogisticRegression(random_state=0, solver='lbfgs', multi_class='multinomial')\n",
    "model_assess(lg, \"Logistic Regression\")\n",
    "\n",
    "# Neural Nets\n",
    "nn = MLPClassifier(solver='lbfgs', alpha=1e-5, hidden_layer_sizes=(5000, 10), random_state=1)\n",
    "model_assess(nn, \"Neural Nets\")\n",
    "\n",
    "#! Cross Gradient Booster\n",
    "# xgb = XGBClassifier(n_estimators=1000, learning_rate=0.05)\n",
    "# model_assess(xgb, \"Cross Gradient Booster\")\n",
    "\n",
    "# Cross Gradient Booster (Random Forest)\n",
    "xgbrf = XGBRFClassifier(objective= 'multi:softmax')\n",
    "model_assess(xgbrf, \"Cross Gradient Booster (Random Forest)\")"
   ]
  },
  {
   "cell_type": "markdown",
   "metadata": {},
   "source": [
    "### XGBoost is the winner - 90% accuracy\n",
    "\n",
    "* create the final model\n",
    "* compute confusion matrix\n",
    "* Compute Feature Importance"
   ]
  },
  {
   "cell_type": "code",
   "execution_count": null,
   "metadata": {},
   "outputs": [],
   "source": [
    "# Final model\n",
    "xgb = XGBClassifier(n_estimators=1000, learning_rate=0.05)\n",
    "xgb.fit(X_train, y_train)\n",
    "\n",
    "\n",
    "preds = xgb.predict(X_test)\n",
    "\n",
    "print('Accuracy', ':', round(accuracy_score(y_test, preds), 5), '\\n')\n",
    "\n",
    "# Confusion Matrix\n",
    "confusion_matr = confusion_matrix(y_test, preds) #normalize = 'true'\n",
    "plt.figure(figsize = (16, 9))\n",
    "sns.heatmap(confusion_matr, cmap=\"Blues\", annot=True, \n",
    "            xticklabels = [\"blues\", \"classical\", \"country\", \"disco\", \"hiphop\", \"jazz\", \"metal\", \"pop\", \"reggae\", \"rock\"],\n",
    "           yticklabels=[\"blues\", \"classical\", \"country\", \"disco\", \"hiphop\", \"jazz\", \"metal\", \"pop\", \"reggae\", \"rock\"]);\n",
    "plt.savefig(\"conf matrix\")"
   ]
  },
  {
   "cell_type": "markdown",
   "metadata": {},
   "source": [
    "### Feature Importance"
   ]
  },
  {
   "cell_type": "code",
   "execution_count": null,
   "metadata": {},
   "outputs": [],
   "source": [
    "import eli5\n",
    "from eli5.sklearn import PermutationImportance\n",
    "\n",
    "perm = PermutationImportance(estimator=xgb, random_state=1)\n",
    "perm.fit(X_test, y_test)\n",
    "\n",
    "eli5.show_weights(estimator=perm, feature_names = X_test.columns.tolist())"
   ]
  },
  {
   "cell_type": "markdown",
   "metadata": {},
   "source": [
    "# Recommender Systems\n",
    "\n",
    "\"Recomender\" Systems enable us for any given vector to find the best similarity, ranked in descending order, from the bast match to the least best match. \n",
    "\n",
    "For Audio files, this will be done through `cosine_similarity` library."
   ]
  },
  {
   "cell_type": "code",
   "execution_count": null,
   "metadata": {},
   "outputs": [],
   "source": [
    "# Libraries\n",
    "import IPython.display as ipd\n",
    "from sklearn.metrics.pairwise import cosine_similarity\n",
    "from sklearn import preprocessing\n",
    "\n",
    "# Read data\n",
    "data = pd.read_csv(f'{general_path}/features_30_sec.csv', index_col='filename')\n",
    "\n",
    "# Extract labels\n",
    "labels = data[['label']]\n",
    "\n",
    "# Drop labels from original dataframe\n",
    "data = data.drop(columns=['length','label'])\n",
    "data.head()\n",
    "\n",
    "# Scale the data\n",
    "data_scaled=preprocessing.scale(data)\n",
    "print('Scaled data type:', type(data_scaled))"
   ]
  },
  {
   "cell_type": "markdown",
   "metadata": {},
   "source": [
    "### Cosine similarity\n",
    "\n",
    "Calculates the *pairwise cosine similarity* for each combination of songs in the data. This results in a 1000 x 1000 matrix (with redundancy in the information as item A similarity to item B == item B similarity to item A)."
   ]
  },
  {
   "cell_type": "code",
   "execution_count": null,
   "metadata": {},
   "outputs": [],
   "source": [
    "# Cosine similarity\n",
    "similarity = cosine_similarity(data_scaled)\n",
    "print(\"Similarity shape:\", similarity.shape)\n",
    "\n",
    "# Convert into a dataframe and then set the row index and column names as labels\n",
    "sim_df_labels = pd.DataFrame(similarity)\n",
    "sim_df_names = sim_df_labels.set_index(labels.index)\n",
    "sim_df_names.columns = labels.index\n",
    "\n",
    "sim_df_names.head()"
   ]
  },
  {
   "cell_type": "markdown",
   "metadata": {},
   "source": [
    "### Song similarity scoring\n",
    "\n",
    "`find_similar_songs()` - is a predefined function that takes the name of the song and returns top 5 best matches for that song."
   ]
  },
  {
   "cell_type": "code",
   "execution_count": null,
   "metadata": {},
   "outputs": [],
   "source": [
    "def find_similar_songs(name):\n",
    "    # Find songs most similar to another song\n",
    "    series = sim_df_names[name].sort_values(ascending = False)\n",
    "    \n",
    "    # Remove cosine similarity == 1 (songs will always have the best match with themselves)\n",
    "    series = series.drop(name)\n",
    "    \n",
    "    # Display the 5 top matches \n",
    "    print(\"\\n*******\\nSimilar songs to \", name)\n",
    "    print(series.head(5))"
   ]
  },
  {
   "cell_type": "markdown",
   "metadata": {},
   "source": [
    "### Putting the Similarity Function into Action:\n",
    "\n",
    "### POP Example"
   ]
  },
  {
   "cell_type": "code",
   "execution_count": null,
   "metadata": {},
   "outputs": [],
   "source": [
    "# pop.00019 - Britney Spears \"Hit me baby one more time\"\n",
    "find_similar_songs('pop.00019.wav') \n",
    "\n",
    "ipd.Audio(f'{general_path}/genres_original/pop/pop.00019.wav')"
   ]
  },
  {
   "cell_type": "markdown",
   "metadata": {},
   "source": [
    "### Similar song match no.1 \n",
    "*Britney Spears* - **I'm so curious (2009 remaster)**"
   ]
  },
  {
   "cell_type": "code",
   "execution_count": null,
   "metadata": {},
   "outputs": [],
   "source": [
    "ipd.Audio(f'{general_path}/genres_original/pop/pop.00023.wav')"
   ]
  },
  {
   "cell_type": "markdown",
   "metadata": {},
   "source": [
    "### Similar song match no.2\n",
    "*Britney Spears* - **Sometimes**"
   ]
  },
  {
   "cell_type": "code",
   "execution_count": null,
   "metadata": {},
   "outputs": [],
   "source": [
    "ipd.Audio(f'{general_path}/genres_original/pop/pop.00034.wav')"
   ]
  },
  {
   "cell_type": "markdown",
   "metadata": {},
   "source": [
    "### Similar song match no.3\n",
    "*Jennifer Lopez* - **Play**"
   ]
  },
  {
   "cell_type": "code",
   "execution_count": null,
   "metadata": {},
   "outputs": [],
   "source": [
    "ipd.Audio(f'{general_path}/genres_original/pop/pop.00078.wav')"
   ]
  },
  {
   "cell_type": "markdown",
   "metadata": {},
   "source": [
    "### Similar song match no.4\n",
    "*Mandy Moore* - **Candy**"
   ]
  },
  {
   "cell_type": "code",
   "execution_count": null,
   "metadata": {},
   "outputs": [],
   "source": [
    "ipd.Audio(f'{general_path}/genres_original/pop/pop.00088.wav')"
   ]
  },
  {
   "cell_type": "markdown",
   "metadata": {},
   "source": [
    "### Similar song match no.5\n",
    "*Mandy Moore* - **Everything my heart desires**"
   ]
  },
  {
   "cell_type": "code",
   "execution_count": null,
   "metadata": {},
   "outputs": [],
   "source": [
    "ipd.Audio(f'{general_path}/genres_original/pop/pop.00091.wav')"
   ]
  },
  {
   "cell_type": "markdown",
   "metadata": {},
   "source": [
    "### METAL Example"
   ]
  },
  {
   "cell_type": "code",
   "execution_count": null,
   "metadata": {},
   "outputs": [],
   "source": [
    "# metal.00002 - Iron Maiden \"Flight of Icarus\"\n",
    "find_similar_songs('metal.00002.wav') \n",
    "\n",
    "ipd.Audio(f'{general_path}/genres_original/metal/metal.00002.wav')"
   ]
  },
  {
   "cell_type": "markdown",
   "metadata": {},
   "source": [
    "### Similar song match no.1 \n",
    "*Motorhead* - **Ace of Spades**"
   ]
  },
  {
   "cell_type": "code",
   "execution_count": null,
   "metadata": {},
   "outputs": [],
   "source": [
    "ipd.Audio(f'{general_path}/genres_original/metal/metal.00028.wav')"
   ]
  },
  {
   "cell_type": "markdown",
   "metadata": {},
   "source": [
    "### Similar song match no.2\n",
    "*Queen* - **Tear it Up**"
   ]
  },
  {
   "cell_type": "code",
   "execution_count": null,
   "metadata": {},
   "outputs": [],
   "source": [
    "ipd.Audio(f'{general_path}/genres_original/metal/metal.00059.wav')"
   ]
  },
  {
   "cell_type": "markdown",
   "metadata": {},
   "source": [
    "### Similar song match no.3\n",
    "*Queen* - **Another One Bites The Dust**"
   ]
  },
  {
   "cell_type": "code",
   "execution_count": null,
   "metadata": {},
   "outputs": [],
   "source": [
    "ipd.Audio(f'{general_path}/genres_original/rock/rock.00018.wav')"
   ]
  },
  {
   "cell_type": "markdown",
   "metadata": {},
   "source": [
    "### Similar song match no.4\n",
    "*Queen* - **Under Pressure**"
   ]
  },
  {
   "cell_type": "code",
   "execution_count": null,
   "metadata": {},
   "outputs": [],
   "source": [
    "ipd.Audio(f'{general_path}/genres_original/rock/rock.00017.wav')"
   ]
  },
  {
   "cell_type": "markdown",
   "metadata": {},
   "source": [
    "### Similar song match no.5\n",
    "*Queen* - **Tie Your Mother Down**"
   ]
  },
  {
   "cell_type": "code",
   "execution_count": null,
   "metadata": {},
   "outputs": [],
   "source": [
    "ipd.Audio(f'{general_path}/genres_original/rock/rock.00016.wav')"
   ]
  },
  {
   "cell_type": "markdown",
   "metadata": {},
   "source": [
    "<div class=\"alert alert-block alert-info\">\n",
    "<p>If you liked this, don't be shy, upvote! 😁<p>\n",
    "\n",
    "<b>Toodles!<b>\n",
    "</div>"
   ]
  }
 ],
 "metadata": {
  "kernelspec": {
   "display_name": ".venv",
   "language": "python",
   "name": "python3"
  },
  "language_info": {
   "codemirror_mode": {
    "name": "ipython",
    "version": 3
   },
   "file_extension": ".py",
   "mimetype": "text/x-python",
   "name": "python",
   "nbconvert_exporter": "python",
   "pygments_lexer": "ipython3",
   "version": "3.12.9"
  }
 },
 "nbformat": 4,
 "nbformat_minor": 4
}
